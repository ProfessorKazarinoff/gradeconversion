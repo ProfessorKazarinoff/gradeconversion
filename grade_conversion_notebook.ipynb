{
 "cells": [
  {
   "cell_type": "code",
   "execution_count": 1,
   "metadata": {},
   "outputs": [],
   "source": [
    "import pandas as pd\n",
    "from D2Ltools import extract_D2L_assigns, extract_D2L_usernames\n",
    "from D2Ltools import extract_D2L_OrgIDs\n",
    "from wptools import extract_wp_assigns, extract_wp_names\n",
    "from fuzzytools import match_list\n",
    "from gooey import Gooey\n",
    "from gooey import GooeyParser"
   ]
  },
  {
   "cell_type": "code",
   "execution_count": 2,
   "metadata": {},
   "outputs": [],
   "source": [
    "wp_csv = 'WP.csv'\n",
    "D2L_csv = 'D2L.csv'"
   ]
  },
  {
   "cell_type": "code",
   "execution_count": 3,
   "metadata": {},
   "outputs": [
    {
     "name": "stdout",
     "output_type": "stream",
     "text": [
      "WileyPlus Names = ['MOHAMMED ALBELADI', 'MOHAMMED ALKHALDI', 'NAYEF ALOTAIBI', 'SERGIO AMADOR', 'RUDY AVALON', 'MATTHEW AYER', 'ANDREW BOSAK', 'DESTRY BRAMMER', 'SOPHIA CATHERICK', 'OSCAR CISNEROS', 'CHRISTOPHER DAHLEN', 'IAN DALTON', 'COREY ECK', 'YAHYE EGAL', 'SAM FISHER', 'TY FITZGERALD', 'ANGELE GRENIER', 'GUS HART', 'MATTHEW HARVEY', 'KYLE HOLEWINSKI', 'TRAVIS KIRCHEM', 'COLLIN KLAS', 'SIRINAPA KOSEYAYOTHIN', 'CHRIS KRISTENSEN', 'PHU LE', 'RODOLFO LOPEZ PEREZ', 'AHMED MAHDI', 'ALAN MANZANO', 'ROBERT MULKEY', 'ALFREDO OLVERA CHAVEZ', 'DUNG PHUONG', 'BETSY RUTH QUITUGUA', 'SOLOMON REID', 'RYAN REUTER', 'NESTOR ROBLES', 'RUBEN ROSALES PALMA', 'NATHAN SAUVE', 'KEVIN SISAVIC', 'RICHARD SITNIK', 'NIKOLAS STANEK', 'SERGEY SVINSITSKIY', 'HIEP TANG', 'DUC TRAN', 'MARC WASSERMAN', 'JOSEPH WHOM', 'TITUS WILBURN', 'CHASE ZIELINSKI']\n"
     ]
    },
    {
     "data": {
      "text/plain": [
       "['MOHAMMED ALBELADI',\n",
       " 'MOHAMMED ALKHALDI',\n",
       " 'NAYEF ALOTAIBI',\n",
       " 'SERGIO AMADOR',\n",
       " 'RUDY AVALON',\n",
       " 'MATTHEW AYER',\n",
       " 'ANDREW BOSAK',\n",
       " 'DESTRY BRAMMER',\n",
       " 'SOPHIA CATHERICK',\n",
       " 'OSCAR CISNEROS',\n",
       " 'CHRISTOPHER DAHLEN',\n",
       " 'IAN DALTON',\n",
       " 'COREY ECK',\n",
       " 'YAHYE EGAL',\n",
       " 'SAM FISHER',\n",
       " 'TY FITZGERALD',\n",
       " 'ANGELE GRENIER',\n",
       " 'GUS HART',\n",
       " 'MATTHEW HARVEY',\n",
       " 'KYLE HOLEWINSKI',\n",
       " 'TRAVIS KIRCHEM',\n",
       " 'COLLIN KLAS',\n",
       " 'SIRINAPA KOSEYAYOTHIN',\n",
       " 'CHRIS KRISTENSEN',\n",
       " 'PHU LE',\n",
       " 'RODOLFO LOPEZ PEREZ',\n",
       " 'AHMED MAHDI',\n",
       " 'ALAN MANZANO',\n",
       " 'ROBERT MULKEY',\n",
       " 'ALFREDO OLVERA CHAVEZ',\n",
       " 'DUNG PHUONG',\n",
       " 'BETSY RUTH QUITUGUA',\n",
       " 'SOLOMON REID',\n",
       " 'RYAN REUTER',\n",
       " 'NESTOR ROBLES',\n",
       " 'RUBEN ROSALES PALMA',\n",
       " 'NATHAN SAUVE',\n",
       " 'KEVIN SISAVIC',\n",
       " 'RICHARD SITNIK',\n",
       " 'NIKOLAS STANEK',\n",
       " 'SERGEY SVINSITSKIY',\n",
       " 'HIEP TANG',\n",
       " 'DUC TRAN',\n",
       " 'MARC WASSERMAN',\n",
       " 'JOSEPH WHOM',\n",
       " 'TITUS WILBURN',\n",
       " 'CHASE ZIELINSKI']"
      ]
     },
     "execution_count": 3,
     "metadata": {},
     "output_type": "execute_result"
    }
   ],
   "source": [
    "wp_names = extract_wp_names(wp_csv)\n",
    "wp_names"
   ]
  },
  {
   "cell_type": "code",
   "execution_count": 4,
   "metadata": {},
   "outputs": [
    {
     "name": "stdout",
     "output_type": "stream",
     "text": [
      "D2L Names =  ['ian.dalton', 'chris.kristensen', 'collin.klas', 'rudy.avalon', 'titus.wilburn', 'matthew.harvey', 'robertc.mulkey', 'nestor.robles', 'alfredo.olverachavez', 'oscar.cisneros', 'sergio.amador', 'ryan.reuter1', 'andrew.bosak', 'nathan.sauve', 'gregg.meyer', 'ruben.rosalespalma', 'gus.hart', 'rodolfo.lopezperez', 'phu.le4', 'kyle.holewinski', 'angele.grenier', 'alan.manzano', 'betsy.quitugua', 'sergey.svinsitskiy', 'hiep.tang', 'matthew.ayer', 'kevin.sisavic', 'duc.tran7', 'ty.fitzgerald', 'sirinapa.koseyayothin', 'travis.kirchem', 'dung.phuong', 'richard.sitnik', 'sophia.catherick', 'mohammed.albeladi', 'nayef.alotaibi', 'peter.kazarinoff', 'christopher.dahlen', 'ahmed.mahdi', 'joseph.whom', 'solomon.reid', 'destry.brammer', 'nik.stanek', 'yahye.egal', 'marc.wasserman', 'sam.fisher1', 'mohammed.alkhaldi3', 'chase.zielinski', 'corey.eck']\n"
     ]
    }
   ],
   "source": [
    "D2L_names = extract_D2L_usernames(D2L_csv)"
   ]
  },
  {
   "cell_type": "code",
   "execution_count": 5,
   "metadata": {},
   "outputs": [
    {
     "name": "stdout",
     "output_type": "stream",
     "text": [
      "MOHAMMED ALBELADI  =  mohammed.albeladi      % match = 100\n",
      "MOHAMMED ALKHALDI  =  mohammed.alkhaldi3      % match = 97\n",
      "NAYEF ALOTAIBI  =  nayef.alotaibi      % match = 100\n",
      "SERGIO AMADOR  =  sergio.amador      % match = 100\n",
      "RUDY AVALON  =  rudy.avalon      % match = 100\n",
      "MATTHEW AYER  =  matthew.ayer      % match = 100\n",
      "ANDREW BOSAK  =  andrew.bosak      % match = 100\n",
      "DESTRY BRAMMER  =  destry.brammer      % match = 100\n",
      "SOPHIA CATHERICK  =  sophia.catherick      % match = 100\n",
      "OSCAR CISNEROS  =  oscar.cisneros      % match = 100\n",
      "CHRISTOPHER DAHLEN  =  christopher.dahlen      % match = 100\n",
      "IAN DALTON  =  ian.dalton      % match = 100\n",
      "COREY ECK  =  corey.eck      % match = 100\n",
      "YAHYE EGAL  =  yahye.egal      % match = 100\n",
      "SAM FISHER  =  sam.fisher1      % match = 95\n",
      "TY FITZGERALD  =  ty.fitzgerald      % match = 100\n",
      "ANGELE GRENIER  =  angele.grenier      % match = 100\n",
      "GUS HART  =  gus.hart      % match = 100\n",
      "MATTHEW HARVEY  =  matthew.harvey      % match = 100\n",
      "KYLE HOLEWINSKI  =  kyle.holewinski      % match = 100\n",
      "TRAVIS KIRCHEM  =  travis.kirchem      % match = 100\n",
      "COLLIN KLAS  =  collin.klas      % match = 100\n",
      "SIRINAPA KOSEYAYOTHIN  =  sirinapa.koseyayothin      % match = 100\n",
      "CHRIS KRISTENSEN  =  chris.kristensen      % match = 100\n",
      "PHU LE  =  phu.le4      % match = 92\n",
      "RODOLFO LOPEZ PEREZ  =  rodolfo.lopezperez      % match = 97\n",
      "AHMED MAHDI  =  ahmed.mahdi      % match = 100\n",
      "ALAN MANZANO  =  alan.manzano      % match = 100\n",
      "ROBERT MULKEY  =  robertc.mulkey      % match = 96\n",
      "ALFREDO OLVERA CHAVEZ  =  alfredo.olverachavez      % match = 98\n",
      "DUNG PHUONG  =  dung.phuong      % match = 100\n",
      "BETSY RUTH QUITUGUA  =  betsy.quitugua      % match = 95\n",
      "SOLOMON REID  =  solomon.reid      % match = 100\n",
      "RYAN REUTER  =  ryan.reuter1      % match = 96\n",
      "NESTOR ROBLES  =  nestor.robles      % match = 100\n",
      "RUBEN ROSALES PALMA  =  ruben.rosalespalma      % match = 97\n",
      "NATHAN SAUVE  =  nathan.sauve      % match = 100\n",
      "KEVIN SISAVIC  =  kevin.sisavic      % match = 100\n",
      "RICHARD SITNIK  =  richard.sitnik      % match = 100\n",
      "NIKOLAS STANEK  =  nik.stanek      % match = 83\n",
      "SERGEY SVINSITSKIY  =  sergey.svinsitskiy      % match = 100\n",
      "HIEP TANG  =  hiep.tang      % match = 100\n",
      "DUC TRAN  =  duc.tran7      % match = 94\n",
      "MARC WASSERMAN  =  marc.wasserman      % match = 100\n",
      "JOSEPH WHOM  =  joseph.whom      % match = 100\n",
      "TITUS WILBURN  =  titus.wilburn      % match = 100\n",
      "CHASE ZIELINSKI  =  chase.zielinski      % match = 100\n",
      "{'MOHAMMED ALBELADI': 'mohammed.albeladi', 'MOHAMMED ALKHALDI': 'mohammed.alkhaldi3', 'NAYEF ALOTAIBI': 'nayef.alotaibi', 'SERGIO AMADOR': 'sergio.amador', 'RUDY AVALON': 'rudy.avalon', 'MATTHEW AYER': 'matthew.ayer', 'ANDREW BOSAK': 'andrew.bosak', 'DESTRY BRAMMER': 'destry.brammer', 'SOPHIA CATHERICK': 'sophia.catherick', 'OSCAR CISNEROS': 'oscar.cisneros', 'CHRISTOPHER DAHLEN': 'christopher.dahlen', 'IAN DALTON': 'ian.dalton', 'COREY ECK': 'corey.eck', 'YAHYE EGAL': 'yahye.egal', 'SAM FISHER': 'sam.fisher1', 'TY FITZGERALD': 'ty.fitzgerald', 'ANGELE GRENIER': 'angele.grenier', 'GUS HART': 'gus.hart', 'MATTHEW HARVEY': 'matthew.harvey', 'KYLE HOLEWINSKI': 'kyle.holewinski', 'TRAVIS KIRCHEM': 'travis.kirchem', 'COLLIN KLAS': 'collin.klas', 'SIRINAPA KOSEYAYOTHIN': 'sirinapa.koseyayothin', 'CHRIS KRISTENSEN': 'chris.kristensen', 'PHU LE': 'phu.le4', 'RODOLFO LOPEZ PEREZ': 'rodolfo.lopezperez', 'AHMED MAHDI': 'ahmed.mahdi', 'ALAN MANZANO': 'alan.manzano', 'ROBERT MULKEY': 'robertc.mulkey', 'ALFREDO OLVERA CHAVEZ': 'alfredo.olverachavez', 'DUNG PHUONG': 'dung.phuong', 'BETSY RUTH QUITUGUA': 'betsy.quitugua', 'SOLOMON REID': 'solomon.reid', 'RYAN REUTER': 'ryan.reuter1', 'NESTOR ROBLES': 'nestor.robles', 'RUBEN ROSALES PALMA': 'ruben.rosalespalma', 'NATHAN SAUVE': 'nathan.sauve', 'KEVIN SISAVIC': 'kevin.sisavic', 'RICHARD SITNIK': 'richard.sitnik', 'NIKOLAS STANEK': 'nik.stanek', 'SERGEY SVINSITSKIY': 'sergey.svinsitskiy', 'HIEP TANG': 'hiep.tang', 'DUC TRAN': 'duc.tran7', 'MARC WASSERMAN': 'marc.wasserman', 'JOSEPH WHOM': 'joseph.whom', 'TITUS WILBURN': 'titus.wilburn', 'CHASE ZIELINSKI': 'chase.zielinski'}\n"
     ]
    }
   ],
   "source": [
    "named = match_list(wp_names, D2L_names)"
   ]
  },
  {
   "cell_type": "code",
   "execution_count": 6,
   "metadata": {},
   "outputs": [
    {
     "data": {
      "text/plain": [
       "{'AHMED MAHDI': 'ahmed.mahdi',\n",
       " 'ALAN MANZANO': 'alan.manzano',\n",
       " 'ALFREDO OLVERA CHAVEZ': 'alfredo.olverachavez',\n",
       " 'ANDREW BOSAK': 'andrew.bosak',\n",
       " 'ANGELE GRENIER': 'angele.grenier',\n",
       " 'BETSY RUTH QUITUGUA': 'betsy.quitugua',\n",
       " 'CHASE ZIELINSKI': 'chase.zielinski',\n",
       " 'CHRIS KRISTENSEN': 'chris.kristensen',\n",
       " 'CHRISTOPHER DAHLEN': 'christopher.dahlen',\n",
       " 'COLLIN KLAS': 'collin.klas',\n",
       " 'COREY ECK': 'corey.eck',\n",
       " 'DESTRY BRAMMER': 'destry.brammer',\n",
       " 'DUC TRAN': 'duc.tran7',\n",
       " 'DUNG PHUONG': 'dung.phuong',\n",
       " 'GUS HART': 'gus.hart',\n",
       " 'HIEP TANG': 'hiep.tang',\n",
       " 'IAN DALTON': 'ian.dalton',\n",
       " 'JOSEPH WHOM': 'joseph.whom',\n",
       " 'KEVIN SISAVIC': 'kevin.sisavic',\n",
       " 'KYLE HOLEWINSKI': 'kyle.holewinski',\n",
       " 'MARC WASSERMAN': 'marc.wasserman',\n",
       " 'MATTHEW AYER': 'matthew.ayer',\n",
       " 'MATTHEW HARVEY': 'matthew.harvey',\n",
       " 'MOHAMMED ALBELADI': 'mohammed.albeladi',\n",
       " 'MOHAMMED ALKHALDI': 'mohammed.alkhaldi3',\n",
       " 'NATHAN SAUVE': 'nathan.sauve',\n",
       " 'NAYEF ALOTAIBI': 'nayef.alotaibi',\n",
       " 'NESTOR ROBLES': 'nestor.robles',\n",
       " 'NIKOLAS STANEK': 'nik.stanek',\n",
       " 'OSCAR CISNEROS': 'oscar.cisneros',\n",
       " 'PHU LE': 'phu.le4',\n",
       " 'RICHARD SITNIK': 'richard.sitnik',\n",
       " 'ROBERT MULKEY': 'robertc.mulkey',\n",
       " 'RODOLFO LOPEZ PEREZ': 'rodolfo.lopezperez',\n",
       " 'RUBEN ROSALES PALMA': 'ruben.rosalespalma',\n",
       " 'RUDY AVALON': 'rudy.avalon',\n",
       " 'RYAN REUTER': 'ryan.reuter1',\n",
       " 'SAM FISHER': 'sam.fisher1',\n",
       " 'SERGEY SVINSITSKIY': 'sergey.svinsitskiy',\n",
       " 'SERGIO AMADOR': 'sergio.amador',\n",
       " 'SIRINAPA KOSEYAYOTHIN': 'sirinapa.koseyayothin',\n",
       " 'SOLOMON REID': 'solomon.reid',\n",
       " 'SOPHIA CATHERICK': 'sophia.catherick',\n",
       " 'TITUS WILBURN': 'titus.wilburn',\n",
       " 'TRAVIS KIRCHEM': 'travis.kirchem',\n",
       " 'TY FITZGERALD': 'ty.fitzgerald',\n",
       " 'YAHYE EGAL': 'yahye.egal'}"
      ]
     },
     "execution_count": 6,
     "metadata": {},
     "output_type": "execute_result"
    }
   ],
   "source": [
    "named"
   ]
  },
  {
   "cell_type": "code",
   "execution_count": 7,
   "metadata": {},
   "outputs": [
    {
     "name": "stdout",
     "output_type": "stream",
     "text": [
      "D2L Usernames =  ['ian.dalton', 'chris.kristensen', 'collin.klas', 'rudy.avalon', 'titus.wilburn', 'matthew.harvey', 'robertc.mulkey', 'nestor.robles', 'alfredo.olverachavez', 'oscar.cisneros', 'sergio.amador', 'ryan.reuter1', 'andrew.bosak', 'nathan.sauve', 'gregg.meyer', 'ruben.rosalespalma', 'gus.hart', 'rodolfo.lopezperez', 'phu.le4', 'kyle.holewinski', 'angele.grenier', 'alan.manzano', 'betsy.quitugua', 'sergey.svinsitskiy', 'hiep.tang', 'matthew.ayer', 'kevin.sisavic', 'duc.tran7', 'ty.fitzgerald', 'sirinapa.koseyayothin', 'travis.kirchem', 'dung.phuong', 'richard.sitnik', 'sophia.catherick', 'mohammed.albeladi', 'nayef.alotaibi', 'peter.kazarinoff', 'christopher.dahlen', 'ahmed.mahdi', 'joseph.whom', 'solomon.reid', 'destry.brammer', 'nik.stanek', 'yahye.egal', 'marc.wasserman', 'sam.fisher1', 'mohammed.alkhaldi3', 'chase.zielinski', 'corey.eck']\n",
      "D2L OrgIDs =  ['G00799208', 'G01133753', 'G01169411', 'G01691840', 'G01918139', 'G02449676', 'G02680154', 'G03413564', 'G03455396', 'G03497558', 'G03534118', 'G03540357', 'G03555175', 'G03557026', 'G03567755', 'G03579622', 'G03583082', 'G03585054', 'G03609641', 'G03642741', 'G03646442', 'G03650575', 'G03660451', 'G03672919', 'G03693878', 'G03737060', 'G03753142', 'G03762748', 'G03773862', 'G03776414', 'G03786287', 'G03798110', 'G03813135', 'G03818603', 'G03827779', 'G03829508', 'G03830358', 'G03834043', 'G03836283', 'G03840827', 'G03855947', 'G03875793', 'G03895549', 'G03899628', 'G03914927', 'G03917612', 'G03925734', 'G03930483', 'G03936892']\n",
      "ian.dalton  :  G00799208\n",
      "chris.kristensen  :  G01133753\n",
      "collin.klas  :  G01169411\n",
      "rudy.avalon  :  G01691840\n",
      "titus.wilburn  :  G01918139\n",
      "matthew.harvey  :  G02449676\n",
      "robertc.mulkey  :  G02680154\n",
      "nestor.robles  :  G03413564\n",
      "alfredo.olverachavez  :  G03455396\n",
      "oscar.cisneros  :  G03497558\n",
      "sergio.amador  :  G03534118\n",
      "ryan.reuter1  :  G03540357\n",
      "andrew.bosak  :  G03555175\n",
      "nathan.sauve  :  G03557026\n",
      "gregg.meyer  :  G03567755\n",
      "ruben.rosalespalma  :  G03579622\n",
      "gus.hart  :  G03583082\n",
      "rodolfo.lopezperez  :  G03585054\n",
      "phu.le4  :  G03609641\n",
      "kyle.holewinski  :  G03642741\n",
      "angele.grenier  :  G03646442\n",
      "alan.manzano  :  G03650575\n",
      "betsy.quitugua  :  G03660451\n",
      "sergey.svinsitskiy  :  G03672919\n",
      "hiep.tang  :  G03693878\n",
      "matthew.ayer  :  G03737060\n",
      "kevin.sisavic  :  G03753142\n",
      "duc.tran7  :  G03762748\n",
      "ty.fitzgerald  :  G03773862\n",
      "sirinapa.koseyayothin  :  G03776414\n",
      "travis.kirchem  :  G03786287\n",
      "dung.phuong  :  G03798110\n",
      "richard.sitnik  :  G03813135\n",
      "sophia.catherick  :  G03818603\n",
      "mohammed.albeladi  :  G03827779\n",
      "nayef.alotaibi  :  G03829508\n",
      "peter.kazarinoff  :  G03830358\n",
      "christopher.dahlen  :  G03834043\n",
      "ahmed.mahdi  :  G03836283\n",
      "joseph.whom  :  G03840827\n",
      "solomon.reid  :  G03855947\n",
      "destry.brammer  :  G03875793\n",
      "nik.stanek  :  G03895549\n",
      "yahye.egal  :  G03899628\n",
      "marc.wasserman  :  G03914927\n",
      "sam.fisher1  :  G03917612\n",
      "mohammed.alkhaldi3  :  G03925734\n",
      "chase.zielinski  :  G03930483\n",
      "corey.eck  :  G03936892\n"
     ]
    }
   ],
   "source": [
    "UserIDdict = extract_D2L_OrgIDs(D2L_csv)"
   ]
  },
  {
   "cell_type": "code",
   "execution_count": 8,
   "metadata": {},
   "outputs": [
    {
     "name": "stdout",
     "output_type": "stream",
     "text": [
      "D2L column headers =  ['OrgDefinedId', 'Username', 'Last Name', 'First Name', 'Email', 'Section', 'MachineShop Lab Grade Points Grade <Numeric MaxPoints:100 Weight:100 Category:Lab: Machine Shop CategoryWeight:25>', 'Lab: Machine Shop Subtotal Numerator', 'Lab: Machine Shop Subtotal Denominator', '3D Printing Safety Quiz Points Grade <Numeric MaxPoints:10 Weight:10 Category:Lab: MakerSpace CategoryWeight:17>', 'Laser Cutting Safety Quiz Points Grade <Numeric MaxPoints:10 Weight:10 Category:Lab: MakerSpace CategoryWeight:17>', 'Phone Stand STL Points Grade <Numeric MaxPoints:15 Weight:15 Category:Lab: MakerSpace CategoryWeight:17>', 'XY Table Concept Proposal Points Grade <Numeric MaxPoints:25 Weight:25 Category:Lab: MakerSpace CategoryWeight:17>', 'Portfolio Points Grade <Numeric MaxPoints:40 Weight:40 Category:Lab: MakerSpace CategoryWeight:17>', 'Lab: MakerSpace Subtotal Numerator', 'Lab: MakerSpace Subtotal Denominator', 'Tour 1 - Attendance Points Grade <Numeric MaxPoints:10 Weight:312.5 Category:Lab: Tours CategoryWeight:8>', 'Tour 2 - Attendance Points Grade <Numeric MaxPoints:10 Weight:312.5 Category:Lab: Tours CategoryWeight:8>', 'Tour 1 - Write Up Points Grade <Numeric MaxPoints:10 Weight:312.5 Category:Lab: Tours CategoryWeight:8>', 'Tour 2 - Write Up Points Grade <Numeric MaxPoints:10 Weight:312.5 Category:Lab: Tours CategoryWeight:8>', 'Lab: Tours Subtotal Numerator', 'Lab: Tours Subtotal Denominator', 'Homework 1 - Ch 1 Points Grade <Numeric MaxPoints:6 Weight:4.34782609 Category:Homework CategoryWeight:10>', 'Homework 2 - Ch 2 Points Grade <Numeric MaxPoints:13 Weight:4.34782609 Category:Homework CategoryWeight:10>', 'Homework 3 - Ch 3 Points Grade <Numeric MaxPoints:7 Weight:4.34782609 Category:Homework CategoryWeight:10>', 'Homework 4 - Ch 4 Points Grade <Numeric MaxPoints:7 Weight:4.34782609 Category:Homework CategoryWeight:10>', 'Homework 6 - Ch 6 Points Grade <Numeric MaxPoints:15 Weight:4.34782609 Category:Homework CategoryWeight:10>', 'Homework 7 - Ch 7 Points Grade <Numeric MaxPoints:5 Weight:4.34782609 Category:Homework CategoryWeight:10>', 'Homework 8 - Ch 8 Points Grade <Numeric MaxPoints:6 Weight:4.34782609 Category:Homework CategoryWeight:10>', 'Homework 9 - Ch 9 Points Grade <Numeric MaxPoints:6 Weight:4.34782609 Category:Homework CategoryWeight:10>', 'Homework 10 - Ch 10 Points Grade <Numeric MaxPoints:4 Weight:4.34782609 Category:Homework CategoryWeight:10>', 'Homework 11 - Ch 11 Points Grade <Numeric MaxPoints:7 Weight:4.34782609 Category:Homework CategoryWeight:10>', 'Homework 12 - Ch 12 Points Grade <Numeric MaxPoints:3 Weight:4.34782609 Category:Homework CategoryWeight:10>', 'Homework 13 - Ch 13 Points Grade <Numeric MaxPoints:6 Weight:4.34782609 Category:Homework CategoryWeight:10>', 'Homework 14 - Ch 14 Points Grade <Numeric MaxPoints:3 Weight:4.34782609 Category:Homework CategoryWeight:10>', 'Homework 17 - Ch 17 Points Grade <Numeric MaxPoints:6 Weight:4.34782609 Category:Homework CategoryWeight:10>', 'Homework 18 - Ch 18 Points Grade <Numeric MaxPoints:9 Weight:4.34782609 Category:Homework CategoryWeight:10>', 'Homework 19 - Ch 19 Points Grade <Numeric MaxPoints:5 Weight:4.34782609 Category:Homework CategoryWeight:10>', 'Homework 23 - Ch 23 Points Grade <Numeric MaxPoints:5 Weight:4.34782609 Category:Homework CategoryWeight:10>', 'Homework 24 - Ch 24 Points Grade <Numeric MaxPoints:6 Weight:4.34782609 Category:Homework CategoryWeight:10>', 'Homework 25 - Ch 25 Points Grade <Numeric MaxPoints:8 Weight:4.34782609 Category:Homework CategoryWeight:10>', 'Homework 28 - Ch 28 Points Grade <Numeric MaxPoints:5 Weight:4.34782609 Category:Homework CategoryWeight:10>', 'Homework 30 - Ch 30 Points Grade <Numeric MaxPoints:3 Weight:4.34782609 Category:Homework CategoryWeight:10>', 'Homework 31 - Ch 31 Points Grade <Numeric MaxPoints:5 Weight:4.34782609 Category:Homework CategoryWeight:10>', 'Homework 4  - Ch 4 Version 2 Points Grade <Numeric MaxPoints:10 Weight:4.34782609 Category:Homework CategoryWeight:10>', 'Homework Subtotal Numerator', 'Homework Subtotal Denominator', 'Exam 1 Points Grade <Numeric MaxPoints:100 Weight:100 Category:Exam 1 CategoryWeight:11>', 'Exam 1 Subtotal Numerator', 'Exam 1 Subtotal Denominator', 'Exam 2 Points Grade <Numeric MaxPoints:100 Weight:100 Category:Exam 2 CategoryWeight:12>', 'Exam 2 Subtotal Numerator', 'Exam 2 Subtotal Denominator', 'Exam 3 Points Grade <Numeric MaxPoints:100 Weight:100 Category:Exam 3 CategoryWeight:12>', 'Exam 3 Subtotal Numerator', 'Exam 3 Subtotal Denominator', 'Sheet Metal Quiz Points Grade <Numeric MaxPoints:6 Weight:545.45454546 Category:In class CategoryWeight:5>', 'Casting Quiz Points Grade <Numeric MaxPoints:6 Weight:545.45454546 Category:In class CategoryWeight:5>', 'Welding Quiz Points Grade <Numeric MaxPoints:5 Weight:454.54545454 Category:In class CategoryWeight:5>', 'Syllabus Quiz Points Grade <Numeric MaxPoints:1 Weight:90.9090909 Category:In class CategoryWeight:5>', 'Coefficent of Thermal Expansion Quiz Points Grade <Numeric MaxPoints:4 Weight:363.63636364 Category:In class CategoryWeight:5>', 'In class Subtotal Numerator', 'In class Subtotal Denominator', 'Calculated Final Grade Numerator', 'Calculated Final Grade Denominator', 'Adjusted Final Grade Numerator', 'Adjusted Final Grade Denominator', 'End-of-Line Indicator']\n",
      "D2L assignments = ['MachineShop Lab Grade Points Grade ', '3D Printing Safety Quiz Points Grade ', 'Laser Cutting Safety Quiz Points Grade ', 'Phone Stand STL Points Grade ', 'XY Table Concept Proposal Points Grade ', 'Portfolio Points Grade ', 'Tour 1 - Attendance Points Grade ', 'Tour 2 - Attendance Points Grade ', 'Tour 1 - Write Up Points Grade ', 'Tour 2 - Write Up Points Grade ', 'Homework 1 - Ch 1 Points Grade ', 'Homework 2 - Ch 2 Points Grade ', 'Homework 3 - Ch 3 Points Grade ', 'Homework 4 - Ch 4 Points Grade ', 'Homework 6 - Ch 6 Points Grade ', 'Homework 7 - Ch 7 Points Grade ', 'Homework 8 - Ch 8 Points Grade ', 'Homework 9 - Ch 9 Points Grade ', 'Homework 10 - Ch 10 Points Grade ', 'Homework 11 - Ch 11 Points Grade ', 'Homework 12 - Ch 12 Points Grade ', 'Homework 13 - Ch 13 Points Grade ', 'Homework 14 - Ch 14 Points Grade ', 'Homework 17 - Ch 17 Points Grade ', 'Homework 18 - Ch 18 Points Grade ', 'Homework 19 - Ch 19 Points Grade ', 'Homework 23 - Ch 23 Points Grade ', 'Homework 24 - Ch 24 Points Grade ', 'Homework 25 - Ch 25 Points Grade ', 'Homework 28 - Ch 28 Points Grade ', 'Homework 30 - Ch 30 Points Grade ', 'Homework 31 - Ch 31 Points Grade ', 'Homework 4  - Ch 4 Version 2 Points Grade ', 'Exam 1 Points Grade ', 'Exam 2 Points Grade ', 'Exam 3 Points Grade ', 'Sheet Metal Quiz Points Grade ', 'Casting Quiz Points Grade ', 'Welding Quiz Points Grade ', 'Syllabus Quiz Points Grade ', 'Coefficent of Thermal Expansion Quiz Points Grade ']\n",
      "['First Name', 'Last Name', 'Email', 'Course name', 'Class-section name', 'Date', 'Overall Score (%)', '*Optional Homework 40 - Ch 40', '*Optional Homework 39 - Ch 39', '*Optional Homework 38 - Ch 38', '*Optional Homework 33', 'Homework 31 - Ch 31', 'Homework 30 - Ch 30', 'Homework 28 - Ch 28', 'Homework 25 - Ch 25', 'Homework 24 - Ch 24', 'Homework 23 - Ch 23', 'Homework 19 - Ch 19', 'Homework 18 - Ch 18', 'Homework 17 - Ch 17', 'Homework 14 - Ch 14', 'Homework 13 - Ch 13', 'Homework 12 - Ch 12', 'Homework 11 - Ch 11', 'Homework 10 - Ch 10', 'Homework 4 - Ch 4 Version 2', 'Homework 3 - Ch 3', 'Homework 2 - Ch 2', 'Homework 1 - Ch 1', 'Homework 9 - Ch 9', 'Homework 8 - Ch 8', 'Homework 7 - Ch 7', 'Homework 6 - Ch 6', 'Homework 4 - Ch 4']\n",
      "['*Optional Homework 40 - Ch 40', '*Optional Homework 39 - Ch 39', '*Optional Homework 38 - Ch 38', '*Optional Homework 33', 'Homework 31 - Ch 31', 'Homework 30 - Ch 30', 'Homework 28 - Ch 28', 'Homework 25 - Ch 25', 'Homework 24 - Ch 24', 'Homework 23 - Ch 23', 'Homework 19 - Ch 19', 'Homework 18 - Ch 18', 'Homework 17 - Ch 17', 'Homework 14 - Ch 14', 'Homework 13 - Ch 13', 'Homework 12 - Ch 12', 'Homework 11 - Ch 11', 'Homework 10 - Ch 10', 'Homework 4 - Ch 4 Version 2', 'Homework 3 - Ch 3', 'Homework 2 - Ch 2', 'Homework 1 - Ch 1', 'Homework 9 - Ch 9', 'Homework 8 - Ch 8', 'Homework 7 - Ch 7', 'Homework 6 - Ch 6', 'Homework 4 - Ch 4']\n",
      "*Optional Homework 40 - Ch 40  =  Homework 4 - Ch 4 Points Grade       % match = 66\n",
      "*Optional Homework 39 - Ch 39  =  Homework 3 - Ch 3 Points Grade       % match = 66\n",
      "*Optional Homework 38 - Ch 38  =  Homework 3 - Ch 3 Points Grade       % match = 66\n",
      "*Optional Homework 33  =  Homework 1 - Ch 1 Points Grade       % match = 86\n",
      "Homework 31 - Ch 31  =  Homework 31 - Ch 31 Points Grade       % match = 90\n",
      "Homework 30 - Ch 30  =  Homework 30 - Ch 30 Points Grade       % match = 90\n",
      "Homework 28 - Ch 28  =  Homework 28 - Ch 28 Points Grade       % match = 90\n",
      "Homework 25 - Ch 25  =  Homework 25 - Ch 25 Points Grade       % match = 90\n",
      "Homework 24 - Ch 24  =  Homework 24 - Ch 24 Points Grade       % match = 90\n",
      "Homework 23 - Ch 23  =  Homework 23 - Ch 23 Points Grade       % match = 90\n",
      "Homework 19 - Ch 19  =  Homework 19 - Ch 19 Points Grade       % match = 90\n",
      "Homework 18 - Ch 18  =  Homework 18 - Ch 18 Points Grade       % match = 90\n",
      "Homework 17 - Ch 17  =  Homework 17 - Ch 17 Points Grade       % match = 90\n",
      "Homework 14 - Ch 14  =  Homework 14 - Ch 14 Points Grade       % match = 90\n",
      "Homework 13 - Ch 13  =  Homework 13 - Ch 13 Points Grade       % match = 90\n",
      "Homework 12 - Ch 12  =  Homework 12 - Ch 12 Points Grade       % match = 90\n",
      "Homework 11 - Ch 11  =  Homework 11 - Ch 11 Points Grade       % match = 90\n",
      "Homework 10 - Ch 10  =  Homework 10 - Ch 10 Points Grade       % match = 90\n",
      "Homework 4 - Ch 4 Version 2  =  Homework 4  - Ch 4 Version 2 Points Grade       % match = 86\n",
      "Homework 3 - Ch 3  =  Homework 3 - Ch 3 Points Grade       % match = 90\n",
      "Homework 2 - Ch 2  =  Homework 2 - Ch 2 Points Grade       % match = 90\n",
      "Homework 1 - Ch 1  =  Homework 1 - Ch 1 Points Grade       % match = 90\n",
      "Homework 9 - Ch 9  =  Homework 9 - Ch 9 Points Grade       % match = 90\n",
      "Homework 8 - Ch 8  =  Homework 8 - Ch 8 Points Grade       % match = 90\n",
      "Homework 7 - Ch 7  =  Homework 7 - Ch 7 Points Grade       % match = 90\n",
      "Homework 6 - Ch 6  =  Homework 6 - Ch 6 Points Grade       % match = 90\n",
      "Homework 4 - Ch 4  =  Homework 4 - Ch 4 Points Grade       % match = 90\n",
      "{'*Optional Homework 40 - Ch 40': 'Homework 4 - Ch 4 Points Grade ', '*Optional Homework 39 - Ch 39': 'Homework 3 - Ch 3 Points Grade ', '*Optional Homework 38 - Ch 38': 'Homework 3 - Ch 3 Points Grade ', '*Optional Homework 33': 'Homework 1 - Ch 1 Points Grade ', 'Homework 31 - Ch 31': 'Homework 31 - Ch 31 Points Grade ', 'Homework 30 - Ch 30': 'Homework 30 - Ch 30 Points Grade ', 'Homework 28 - Ch 28': 'Homework 28 - Ch 28 Points Grade ', 'Homework 25 - Ch 25': 'Homework 25 - Ch 25 Points Grade ', 'Homework 24 - Ch 24': 'Homework 24 - Ch 24 Points Grade ', 'Homework 23 - Ch 23': 'Homework 23 - Ch 23 Points Grade ', 'Homework 19 - Ch 19': 'Homework 19 - Ch 19 Points Grade ', 'Homework 18 - Ch 18': 'Homework 18 - Ch 18 Points Grade ', 'Homework 17 - Ch 17': 'Homework 17 - Ch 17 Points Grade ', 'Homework 14 - Ch 14': 'Homework 14 - Ch 14 Points Grade ', 'Homework 13 - Ch 13': 'Homework 13 - Ch 13 Points Grade ', 'Homework 12 - Ch 12': 'Homework 12 - Ch 12 Points Grade ', 'Homework 11 - Ch 11': 'Homework 11 - Ch 11 Points Grade ', 'Homework 10 - Ch 10': 'Homework 10 - Ch 10 Points Grade ', 'Homework 4 - Ch 4 Version 2': 'Homework 4  - Ch 4 Version 2 Points Grade ', 'Homework 3 - Ch 3': 'Homework 3 - Ch 3 Points Grade ', 'Homework 2 - Ch 2': 'Homework 2 - Ch 2 Points Grade ', 'Homework 1 - Ch 1': 'Homework 1 - Ch 1 Points Grade ', 'Homework 9 - Ch 9': 'Homework 9 - Ch 9 Points Grade ', 'Homework 8 - Ch 8': 'Homework 8 - Ch 8 Points Grade ', 'Homework 7 - Ch 7': 'Homework 7 - Ch 7 Points Grade ', 'Homework 6 - Ch 6': 'Homework 6 - Ch 6 Points Grade ', 'Homework 4 - Ch 4': 'Homework 4 - Ch 4 Points Grade '}\n"
     ]
    }
   ],
   "source": [
    "D2L_assigns = extract_D2L_assigns(D2L_csv)\n",
    "wp_assigns = extract_wp_assigns(wp_csv)\n",
    "assignd = match_list(wp_assigns, D2L_assigns)"
   ]
  },
  {
   "cell_type": "code",
   "execution_count": null,
   "metadata": {},
   "outputs": [],
   "source": []
  }
 ],
 "metadata": {
  "kernelspec": {
   "display_name": "Python 3",
   "language": "python",
   "name": "python3"
  },
  "language_info": {
   "codemirror_mode": {
    "name": "ipython",
    "version": 3
   },
   "file_extension": ".py",
   "mimetype": "text/x-python",
   "name": "python",
   "nbconvert_exporter": "python",
   "pygments_lexer": "ipython3",
   "version": "3.6.4"
  }
 },
 "nbformat": 4,
 "nbformat_minor": 2
}
