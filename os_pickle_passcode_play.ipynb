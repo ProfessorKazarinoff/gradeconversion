{
 "cells": [
  {
   "cell_type": "markdown",
   "metadata": {},
   "source": [
    "Trying to do a pickle of a passord ask to a .config directory"
   ]
  },
  {
   "cell_type": "code",
   "execution_count": 28,
   "metadata": {
    "collapsed": true
   },
   "outputs": [],
   "source": [
    "import os\n",
    "import pickle"
   ]
  },
  {
   "cell_type": "code",
   "execution_count": 29,
   "metadata": {},
   "outputs": [
    {
     "name": "stdout",
     "output_type": "stream",
     "text": [
      ".config dir exists\n"
     ]
    }
   ],
   "source": [
    "if not os.path.exists('.config'):\n",
    "    os.mkdir('.config')\n",
    "    \n",
    "if os.path.exists('.config'):\n",
    "    print('.config dir exists')"
   ]
  },
  {
   "cell_type": "code",
   "execution_count": 30,
   "metadata": {},
   "outputs": [
    {
     "name": "stdout",
     "output_type": "stream",
     "text": [
      "C:\\Users\\Peter\\Documents\\gradeconversion\n",
      "C:\\Users\\Peter\\Documents\\gradeconversion\\.config\n"
     ]
    }
   ],
   "source": [
    "os.getcwd()\n",
    "\n",
    "import os\n",
    "print(os.getcwd())\n",
    "basedir=os.getcwd()\n",
    "configdir=os.path.join(basedir,'.config')\n",
    "print(configdir)\n"
   ]
  },
  {
   "cell_type": "code",
   "execution_count": 32,
   "metadata": {},
   "outputs": [
    {
     "name": "stdout",
     "output_type": "stream",
     "text": [
      "User Name: pete\n",
      "Passwordyeah yeah yeah\n"
     ]
    }
   ],
   "source": [
    "username = input('User Name: ')\n",
    "password = input('Password')\n",
    "passcode_dict = {'UserName': username, 'Password': password}"
   ]
  },
  {
   "cell_type": "code",
   "execution_count": 33,
   "metadata": {
    "collapsed": true
   },
   "outputs": [],
   "source": [
    "pickling_on = open(os.path.join(configdir, 'passcode_dict.pickle'),\"wb\")\n",
    "pickle.dump(passcode_dict, pickling_on)\n",
    "pickling_on.close()"
   ]
  },
  {
   "cell_type": "code",
   "execution_count": 34,
   "metadata": {},
   "outputs": [
    {
     "data": {
      "text/plain": [
       "['passcode_dict.pickle']"
      ]
     },
     "execution_count": 34,
     "metadata": {},
     "output_type": "execute_result"
    }
   ],
   "source": [
    "os.listdir(configdir)"
   ]
  },
  {
   "cell_type": "code",
   "execution_count": 35,
   "metadata": {},
   "outputs": [
    {
     "name": "stdout",
     "output_type": "stream",
     "text": [
      "{'UserName': 'pete', 'Password': 'yeah yeah yeah'}\n"
     ]
    }
   ],
   "source": [
    "pickle_off = open(os.path.join(configdir, 'passcode_dict.pickle'),\"rb\")\n",
    "converted_dict = pickle.load(pickle_off)\n",
    "print(converted_dict)"
   ]
  },
  {
   "cell_type": "code",
   "execution_count": null,
   "metadata": {
    "collapsed": true
   },
   "outputs": [],
   "source": []
  }
 ],
 "metadata": {
  "kernelspec": {
   "display_name": "Python 3",
   "language": "python",
   "name": "python3"
  },
  "language_info": {
   "codemirror_mode": {
    "name": "ipython",
    "version": 3
   },
   "file_extension": ".py",
   "mimetype": "text/x-python",
   "name": "python",
   "nbconvert_exporter": "python",
   "pygments_lexer": "ipython3",
   "version": "3.6.3"
  }
 },
 "nbformat": 4,
 "nbformat_minor": 2
}
